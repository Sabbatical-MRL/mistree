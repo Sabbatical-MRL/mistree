{
 "cells": [
  {
   "cell_type": "markdown",
   "metadata": {},
   "source": [
    "# _MiSTree Tutorial 1_ - Lévy Flight\n",
    "\n",
    "Random walk distributions draw step sizes randomly from a given probability distribution function. The walk begins at a point and ‘steps’ to a new point in a random direction.\n",
    "\n",
    "These types of distributions were invented by Benoît Mandelbrot. The Lévy flight distribution is a specific random walk distribution useful for creating fractal distribution which exhibits power law clustering.\n",
    "\n",
    "## (1) _2D vs 3D Lévy Flight distributions_\n",
    "\n",
    "In these example we will look only at Lévy flight distribution, first in 2D and then 3D. All other parameters are kept to their default values. We will explore what the other parameters do later.\n",
    "\n",
    "### (1.1) _2D Lévy Flight Distribution_\n",
    "\n",
    "In this example we show how to generate a random walk distribution in 2D. Since the default setting is in 3D we will need to specify that we want this in 2D.\n",
    "\n",
    "Before this we need to first import some basic modules for plotting and MiSTree itself."
   ]
  },
  {
   "cell_type": "code",
   "execution_count": null,
   "metadata": {},
   "outputs": [],
   "source": [
    "import numpy as np\n",
    "import matplotlib.pylab as plt\n",
    "import mistree as mist"
   ]
  },
  {
   "cell_type": "markdown",
   "metadata": {},
   "source": [
    "To generate a 2D Lévy flight sample, we will need to first specify how many points we want in our random walk. This is given below by a parameter we call `size`. Be careful with the size, if you make this too large, because of the periodic boundary conditions, this will result in a distribution that is no different to a random distribution!"
   ]
  },
  {
   "cell_type": "code",
   "execution_count": null,
   "metadata": {},
   "outputs": [],
   "source": [
    "size = 50000\n",
    "x, y = mist.get_levy_flight(size, mode='2D')"
   ]
  },
  {
   "cell_type": "markdown",
   "metadata": {},
   "source": [
    "This will give you a clustered distribution which looks like this:"
   ]
  },
  {
   "cell_type": "code",
   "execution_count": null,
   "metadata": {},
   "outputs": [],
   "source": [
    "plt.figure(figsize=(6., 6.))\n",
    "plt.plot(x, y, 'o', markersize=1., alpha=0.1)\n",
    "plt.xlabel(r'$X$')\n",
    "plt.ylabel(r'$Y$')\n",
    "plt.xlim(0., 75.)\n",
    "plt.ylim(0., 75.)\n",
    "plt.tight_layout()\n",
    "plt.show()"
   ]
  },
  {
   "cell_type": "markdown",
   "metadata": {},
   "source": [
    "### (1.2) _3D Levy Flight Distribution_\n",
    "\n",
    "Creating a 3D distribution is even easier, since this is the default setting for all the random walk functions. Like before we again specify the size and generate the distribution in the following way:"
   ]
  },
  {
   "cell_type": "code",
   "execution_count": null,
   "metadata": {},
   "outputs": [],
   "source": [
    "size = 50000\n",
    "x, y, z = mist.get_levy_flight(size)"
   ]
  },
  {
   "cell_type": "markdown",
   "metadata": {},
   "source": [
    "We plot the 3 dimensions across 3 plains: X vs Y, X vs Z and Z vs Y:"
   ]
  },
  {
   "cell_type": "code",
   "execution_count": null,
   "metadata": {},
   "outputs": [],
   "source": [
    "import matplotlib.gridspec as gridspec\n",
    "\n",
    "plt.figure(figsize=(10., 10.))\n",
    "gs = gridspec.GridSpec(2, 2, hspace=0.05, wspace=0.05)\n",
    "gs.update(left=0.075, right=0.975, top=0.975, bottom=0.075)\n",
    "ax1 = plt.subplot(gs[2])\n",
    "ax2 = plt.subplot(gs[3])\n",
    "ax3 = plt.subplot(gs[0])\n",
    "ax1.plot(x, y, 'o', markersize=1, alpha=0.1)\n",
    "ax2.plot(z, y, 'o', markersize=1, alpha=0.1)\n",
    "ax3.plot(x, z, 'o', markersize=1, alpha=0.1)\n",
    "ax1.set_xlabel(r'$X$', fontsize=18)\n",
    "ax1.set_ylabel(r'$Y$', fontsize=18)\n",
    "ax2.set_xlabel(r'$Z$', fontsize=18)\n",
    "ax3.set_ylabel(r'$Z$', fontsize=18)\n",
    "ax2.set_yticks([])\n",
    "ax3.set_xticks([])\n",
    "ax1.set_xlim(0., 75.)\n",
    "ax1.set_ylim(0., 75.)\n",
    "ax2.set_xlim(0., 75.)\n",
    "ax2.set_ylim(0., 75.)\n",
    "ax3.set_xlim(0., 75.)\n",
    "ax3.set_ylim(0., 75.)\n",
    "plt.show()"
   ]
  },
  {
   "cell_type": "markdown",
   "metadata": {},
   "source": [
    "## (2) _Periodic boundaries and box sizes_\n",
    "\n",
    "All random walk distributions created by MiSTree have periodic boundary conditions by default. This means that the box is repeated infinitely in all dimensions. This is a common procedure used in N-Body simulations. When a particle steps out of the boundary it actually re-enters the box from the other side. The size of the box can be specified by setting the `box_size` in any of the Lévy flight functions."
   ]
  },
  {
   "cell_type": "code",
   "execution_count": null,
   "metadata": {},
   "outputs": [],
   "source": [
    "size = 50000\n",
    "\n",
    "# default box_size=75.\n",
    "x1, y1, z1 = mist.get_levy_flight(size, box_size=75.)\n",
    "\n",
    "# changing the box_size=100.\n",
    "x2, y2, z2 = mist.get_levy_flight(size, box_size=100.)"
   ]
  },
  {
   "cell_type": "code",
   "execution_count": null,
   "metadata": {},
   "outputs": [],
   "source": [
    "plt.figure(figsize=(6., 6.))\n",
    "plt.plot(x1, y1, 'o', markersize=1., alpha=0.1)\n",
    "plt.xlabel(r'$X$')\n",
    "plt.ylabel(r'$Y$')\n",
    "plt.xlim(-10., 110.)\n",
    "plt.ylim(-10., 110.)\n",
    "plt.tight_layout()\n",
    "plt.show()\n",
    "\n",
    "plt.figure(figsize=(6., 6.))\n",
    "plt.plot(x2, y2, 'o', markersize=1., alpha=0.1)\n",
    "plt.xlabel(r'$X$')\n",
    "plt.ylabel(r'$Y$')\n",
    "plt.xlim(-10., 110.)\n",
    "plt.ylim(-10., 110.)\n",
    "plt.tight_layout()\n",
    "plt.show()"
   ]
  },
  {
   "cell_type": "markdown",
   "metadata": {},
   "source": [
    "However, if you want to turn this off you will need to set `periodic=False`."
   ]
  },
  {
   "cell_type": "code",
   "execution_count": null,
   "metadata": {},
   "outputs": [],
   "source": [
    "size = 1000\n",
    "x, y = mist.get_levy_flight(size, mode='2D', periodic=False)"
   ]
  },
  {
   "cell_type": "code",
   "execution_count": null,
   "metadata": {},
   "outputs": [],
   "source": [
    "plt.figure(figsize=(6., 6.))\n",
    "plt.plot(x, y, 'o', markersize=1., alpha=0.5)\n",
    "plt.xlabel(r'$X$')\n",
    "plt.ylabel(r'$Y$')\n",
    "plt.tight_layout()\n",
    "plt.show()"
   ]
  },
  {
   "cell_type": "markdown",
   "metadata": {},
   "source": [
    "## (3) _Random Walk Models_\n",
    "\n",
    "Random walk distributions can be made by one of the Levy flight functions: ``get_levy_flight`` or ``get_adjusted_levy_flight`` which creates a distribution of Lévy flight and adjusted Lévy flight distributions, respectively. Both of these functions interact with the function ``get_random_flight`` which can be used to generate a random walk with your own specified probability distribution function\n",
    "(PDF). Below we will explain in detail how these distributions work and what the parameters do in each model.\n",
    "\n",
    "### (3.1) _Levy Flight_\n",
    "\n",
    "Levy flights are defined with a power law PDF and a cumulative distribution function (CDF) given by,\n",
    "\n",
    "$$\n",
    "CDF(t) = \\left\\{ \\begin{array}{lcl}\n",
    "    0  & \\mbox{for} & t < t_{0} \\\\\n",
    "    1 - \\left(\\frac{t}{t_{0}}\\right)^{-\\alpha} & \\mbox{for} & t\\geq t_{0}\n",
    "    \\end{array} \\right.\n",
    "$$\n",
    "    \n",
    "Where:\n",
    "\n",
    "- $t$ - step sizes\n",
    "- $t_{0}$ - minimum step size.\n",
    "- $\\alpha$ - defines the slope of power law.\n",
    "\n",
    "The PDF for the Lévy flight is given by,\n",
    "\n",
    "$$\n",
    "\\begin{equation*}\n",
    "PDF(t) = \\left\\{ \\begin{array}{lcl}\n",
    "0  & \\mbox{for} & t < t_{0} \\\\\n",
    "\\alpha \\frac{t_{0}^{\\alpha}}{t^{1+\\alpha}} & \\mbox{for} & t\\geq t_{0}\n",
    "\\end{array} \\right.\n",
    "\\end{equation*}\n",
    "$$\n",
    "\n",
    "If we are to change t_{0}, which is the minimum step length, to shorter values this results in there being a higher probability of smaller step sizes."
   ]
  },
  {
   "cell_type": "code",
   "execution_count": null,
   "metadata": {},
   "outputs": [],
   "source": [
    "def pdf_levy_flight(t, t0, alpha):\n",
    "    pdf = np.zeros(len(t))\n",
    "    condition = np.where(t >= t0)[0]\n",
    "    pdf[condition] = alpha * (t0**alpha) / (t[condition]**(1.+alpha))\n",
    "    return pdf"
   ]
  },
  {
   "cell_type": "code",
   "execution_count": null,
   "metadata": {},
   "outputs": [],
   "source": [
    "t = np.logspace(-3, 3) # t with equal log spacings.\n",
    "\n",
    "plt.figure(figsize=(8, 7))\n",
    "plt.plot(t, pdf_levy_flight(t, 0.01, 1.5), label=r'$t_{0}=0.01$')\n",
    "plt.plot(t, pdf_levy_flight(t, 0.1, 1.5), label=r'$t_{0}=0.1$')\n",
    "plt.plot(t, pdf_levy_flight(t, 1., 1.5), label=r'$t_{0}=1$')\n",
    "plt.xlabel(r'$t$', fontsize=16)\n",
    "plt.ylabel(r'$PDF(t)$', fontsize=16)\n",
    "plt.xscale('log')\n",
    "plt.yscale('log')\n",
    "plt.legend(loc='best', fontsize=12)\n",
    "plt.show()"
   ]
  },
  {
   "cell_type": "markdown",
   "metadata": {},
   "source": [
    "We now generate a set of realisations with these parameters."
   ]
  },
  {
   "cell_type": "code",
   "execution_count": null,
   "metadata": {},
   "outputs": [],
   "source": [
    "size = 50000 # how many particles in the distribution\n",
    "\n",
    "x1, y1 = mist.get_levy_flight(size, t_0=0.01, alpha=1.5, mode='2D')\n",
    "x2, y2 = mist.get_levy_flight(size, t_0=0.1, alpha=1.5, mode='2D')\n",
    "x3, y3 = mist.get_levy_flight(size, t_0=1., alpha=1.5, mode='2D')"
   ]
  },
  {
   "cell_type": "markdown",
   "metadata": {},
   "source": [
    "which are plotted:"
   ]
  },
  {
   "cell_type": "code",
   "execution_count": null,
   "metadata": {},
   "outputs": [],
   "source": [
    "plt.figure(figsize=(15., 5.))\n",
    "gs = gridspec.GridSpec(1, 3, hspace=0.025)\n",
    "gs.update(left=0.05, right=0.95, top=0.925, bottom=0.125)\n",
    "ax1 = plt.subplot(gs[0])\n",
    "ax2 = plt.subplot(gs[1])\n",
    "ax3 = plt.subplot(gs[2])\n",
    "ax1.plot(x1, y1, 'o', markersize=1, alpha=0.1)\n",
    "ax2.plot(x2, y2, 'o', markersize=1, alpha=0.1)\n",
    "ax3.plot(x3, y3, 'o', markersize=1, alpha=0.1)\n",
    "ax1.set_xlabel(r'$X$', fontsize=18)\n",
    "ax1.set_ylabel(r'$Y$', fontsize=18)\n",
    "ax2.set_xlabel(r'$X$', fontsize=18)\n",
    "ax3.set_xlabel(r'$X$', fontsize=18)\n",
    "ax2.set_yticks([])\n",
    "ax3.set_yticks([])\n",
    "ax1.set_xlim(0., 75.)\n",
    "ax1.set_ylim(0., 75.)\n",
    "ax2.set_xlim(0., 75.)\n",
    "ax2.set_ylim(0., 75.)\n",
    "ax3.set_xlim(0., 75.)\n",
    "ax3.set_ylim(0., 75.)\n",
    "ax1.set_title(r'$t_{0}=0.01$')\n",
    "ax2.set_title(r'$t_{0}=0.1$')\n",
    "ax3.set_title(r'$t_{0}=1.$')\n",
    "plt.show()"
   ]
  },
  {
   "cell_type": "markdown",
   "metadata": {},
   "source": [
    "if we instead vary $\\alpha$ this changes the gradient of the slope."
   ]
  },
  {
   "cell_type": "code",
   "execution_count": null,
   "metadata": {},
   "outputs": [],
   "source": [
    "plt.figure(figsize=(8, 7))\n",
    "plt.plot(t, pdf_levy_flight(t, 0.1, 1.), label=r'$\\alpha=1$')\n",
    "plt.plot(t, pdf_levy_flight(t, 0.1, 2.), label=r'$\\alpha=2$')\n",
    "plt.plot(t, pdf_levy_flight(t, 0.1, 3.), label=r'$\\alpha=3$')\n",
    "plt.xlabel(r'$t$', fontsize=16)\n",
    "plt.ylabel(r'$PDF(t)$', fontsize=16)\n",
    "plt.xscale('log')\n",
    "plt.yscale('log')\n",
    "plt.legend(loc='best', fontsize=12)\n",
    "plt.show()"
   ]
  },
  {
   "cell_type": "markdown",
   "metadata": {},
   "source": [
    "We now generate a set of realisations with these parameters."
   ]
  },
  {
   "cell_type": "code",
   "execution_count": null,
   "metadata": {},
   "outputs": [],
   "source": [
    "size = 50000 # how many particles in the distribution\n",
    "\n",
    "x1, y1 = mist.get_levy_flight(size, t_0=0.1, alpha=1., mode='2D')\n",
    "x2, y2 = mist.get_levy_flight(size, t_0=0.1, alpha=1.5, mode='2D')\n",
    "x3, y3 = mist.get_levy_flight(size, t_0=0.1, alpha=2., mode='2D')"
   ]
  },
  {
   "cell_type": "markdown",
   "metadata": {},
   "source": [
    "Which we then plot:"
   ]
  },
  {
   "cell_type": "code",
   "execution_count": null,
   "metadata": {},
   "outputs": [],
   "source": [
    "plt.figure(figsize=(15., 5.))\n",
    "gs = gridspec.GridSpec(1, 3, hspace=0.025)\n",
    "gs.update(left=0.05, right=0.95, top=0.925, bottom=0.125)\n",
    "ax1 = plt.subplot(gs[0])\n",
    "ax2 = plt.subplot(gs[1])\n",
    "ax3 = plt.subplot(gs[2])\n",
    "ax1.plot(x1, y1, 'o', markersize=1, alpha=0.1)\n",
    "ax2.plot(x2, y2, 'o', markersize=1, alpha=0.1)\n",
    "ax3.plot(x3, y3, 'o', markersize=1, alpha=0.1)\n",
    "ax1.set_xlabel(r'$X$', fontsize=18)\n",
    "ax1.set_ylabel(r'$Y$', fontsize=18)\n",
    "ax2.set_xlabel(r'$X$', fontsize=18)\n",
    "ax3.set_xlabel(r'$X$', fontsize=18)\n",
    "ax2.set_yticks([])\n",
    "ax3.set_yticks([])\n",
    "ax1.set_xlim(0., 75.)\n",
    "ax1.set_ylim(0., 75.)\n",
    "ax2.set_xlim(0., 75.)\n",
    "ax2.set_ylim(0., 75.)\n",
    "ax3.set_xlim(0., 75.)\n",
    "ax3.set_ylim(0., 75.)\n",
    "ax1.set_title(r'$\\alpha=1$')\n",
    "ax2.set_title(r'$\\alpha=1.5$')\n",
    "ax3.set_title(r'$\\alpha=2$')\n",
    "plt.show()"
   ]
  },
  {
   "cell_type": "markdown",
   "metadata": {},
   "source": [
    "These two parameters can both be changed to affect the amount of clustering. But since $\\alpha$ is directly related to the two point correlation function it is often considered to be the more important parameter."
   ]
  },
  {
   "cell_type": "markdown",
   "metadata": {},
   "source": [
    "### (3.2) _Adjusted Lévy Flight_\n",
    "\n",
    "We developed a move flexible Lévy flight model to better deal with small scales.\n",
    "Normal Lévy flight distributions are able to produce power law 2PCF, however below\n",
    "$t_{0}$ the 2PCF plateaus. To be able to control what happens below this scale\n",
    "we instead use a Lévy flight model which has a CDF:\n",
    "\n",
    "$$\n",
    "    \\begin{equation*}\n",
    "    CDF(t) = \\left\\{ \\begin{array}{lcl}\n",
    "    0  & \\mbox{for} & t < t_{s} \\\\\n",
    "    \\beta\\left(\\frac{t-t_{s}}{t_{0}-t_{s}}\\right)^{\\gamma}& \\mbox{for} & t_{s} \\leq t < t_{0}\\\\\n",
    "    (1-\\beta)\\left[1 - \\left(\\frac{t}{t_{0}}\\right)^{-\\alpha}\\right]+\\beta & \\mbox{for} & t\\geq t_{0}\n",
    "    \\end{array} \\right.\n",
    "    \\end{equation*}\n",
    "$$\n",
    "\n",
    "which we call the *adjusted Levy flight*, where $t_{0}$ and $\\alpha$\n",
    "play the same role as they do in the normal Lévy flight distribution. The CDF\n",
    "is built with two CDFs: (1) the normal Lévy flight part which operates for step sizes\n",
    "larger than $t_{0}$ and (2) the adjusted part operates between step sizes\n",
    "$t_{s}$ and $t_{0}$ where $t_{s} < t_{0}$. Unlike the normal\n",
    "Lévy flight distribution, which transitions from a $PDF(t<t_{0}) = 0$ to a\n",
    "peak at $PDF(t_{0})$ the adjusted Lévy flight has a gradual rise in between\n",
    "$t_{s}$ and $t_{0}$. The other parameters have the following roles:\n",
    "\n",
    "- $t_{s}$ - the minimum step sizes.\n",
    "- $\\beta$ - the fraction of steps between $t_{s}$ and $t_{0}$.\n",
    "- $\\gamma$ - the gradient of the rise.\n",
    "\n",
    "The PDF is thus defined as:\n",
    "\n",
    "$$\n",
    "\\begin{equation*}\n",
    "    PDF(t) = \\left\\{ \\begin{array}{lcl}\n",
    "    0  & \\mbox{for} & t < t_{s} \\\\\n",
    "    \\frac{\\beta\\gamma t}{(t-t_{s})}\\left(\\frac{t-t_{s}}{t_{0}-t_{s}}\\right)^{\\gamma}& \\mbox{for} & t_{s} \\leq t < t_{0}\\\\\n",
    "    \\frac{\\alpha(1-\\beta)}{t_{0}}t^{-(1+\\alpha)} & \\mbox{for} & t\\geq t_{0}\n",
    "    \\end{array} \\right.\n",
    "    \\end{equation*}\n",
    "$$\n",
    "\n",
    "Below we show what happens to the CDF of the adjusted Lévy flight distribution if we\n",
    "vary these parameters individually whilst keeping all other parameters constant.\n"
   ]
  },
  {
   "cell_type": "code",
   "execution_count": null,
   "metadata": {},
   "outputs": [],
   "source": [
    "def cdf_adjusted_levy_flight(t, t_s=0.015, t_0=0.325, alpha=1.5, beta=0.45, gamma=1.3):\n",
    "    cdf = np.zeros(len(t))\n",
    "    condition = np.where((t >= t_s) & (t < t_0))[0]\n",
    "    cdf[condition] = beta*((t[condition]-t_s)/(t_0-t_s))**gamma\n",
    "    condition = np.where(t >= t_0)[0]\n",
    "    cdf[condition] = (1.-beta)*(1-(t[condition]/t_0)**(-1.*alpha))+beta\n",
    "    return cdf"
   ]
  },
  {
   "cell_type": "code",
   "execution_count": null,
   "metadata": {},
   "outputs": [],
   "source": [
    "plt.figure(figsize=(15., 5.))\n",
    "gs = gridspec.GridSpec(1, 3, wspace=0.025)\n",
    "gs.update(left=0.05, right=0.95, top=0.925, bottom=0.125)\n",
    "ax1 = plt.subplot(gs[0])\n",
    "ax2 = plt.subplot(gs[1])\n",
    "ax3 = plt.subplot(gs[2])\n",
    "\n",
    "ax1.plot(t, cdf_adjusted_levy_flight(t, t_s=0.1), label=r'$t_{s}=0.1$')\n",
    "ax1.plot(t, cdf_adjusted_levy_flight(t, t_s=0.01), label=r'$t_{s}=0.01$')\n",
    "ax1.plot(t, cdf_adjusted_levy_flight(t, t_s=0.001), label=r'$t_{s}=0.001$')\n",
    "ax1.legend(loc='best', fontsize=12)\n",
    "\n",
    "ax2.plot(t, cdf_adjusted_levy_flight(t, gamma=0.5), label=r'$\\gamma=0.5$')\n",
    "ax2.plot(t, cdf_adjusted_levy_flight(t, gamma=1.5), label=r'$\\gamma=1.5$')\n",
    "ax2.plot(t, cdf_adjusted_levy_flight(t, gamma=2.5), label=r'$\\gamma=2.5$')\n",
    "ax2.legend(loc='best', fontsize=12)\n",
    "\n",
    "ax3.plot(t, cdf_adjusted_levy_flight(t, beta=0.1), label=r'$\\beta=0.1$')\n",
    "ax3.plot(t, cdf_adjusted_levy_flight(t, beta=0.3), label=r'$\\beta=0.3$')\n",
    "ax3.plot(t, cdf_adjusted_levy_flight(t, beta=0.5), label=r'$\\beta=0.5$')\n",
    "ax3.legend(loc='best', fontsize=12)\n",
    "\n",
    "ax1.set_xlabel(r'$t$', fontsize=18)\n",
    "ax1.set_ylabel(r'$CDF(t)$', fontsize=18)\n",
    "ax2.set_xlabel(r'$t$', fontsize=18)\n",
    "ax3.set_xlabel(r'$t$', fontsize=18)\n",
    "ax2.set_yticks([])\n",
    "ax3.set_yticks([])\n",
    "ax1.set_xscale('log')\n",
    "ax2.set_xscale('log')\n",
    "ax3.set_xscale('log')\n",
    "ax1.set_ylim(0., 1.)\n",
    "ax2.set_ylim(0., 1.)\n",
    "ax3.set_ylim(0., 1.)\n",
    "plt.show()"
   ]
  },
  {
   "cell_type": "markdown",
   "metadata": {},
   "source": [
    "### (3.3) Other Random Walk\n",
    "\n",
    "To create a random walk distribution with a user defined steps, you will need to first generate a distribution of step sizes. To do this you will need to invert the CDF of a distribution and input random uniform values between 0 and 1. Once you have a distribution of step sizes you can pass this to the ``get_random_flight`` function.\n",
    "\n",
    "We will step you through how to do this using a step size distribution which follows\n",
    "a log normal distribution.\n",
    "\n",
    "\n",
    "$$CDF(t) = \\frac{1}{2} + \\frac{1}{2} {\\rm erf} \\left[\\frac{\\ln t -\\mu}{\\sqrt{2}\\sigma}\\right]$$\n",
    "\n",
    "To generate a random log normal distribution we invert this function giving us:\n",
    "\n",
    "$$t = \\exp \\left[\\sqrt{2}\\sigma\\ {\\rm erf}^{-1}(2u-1) + \\mu\\right]$$\n",
    "\n",
    "Where $CDF(t)=u$. Here, $u$ is a randomly drawn number between 0 and 1.\n",
    "We can generate this in the following way:"
   ]
  },
  {
   "cell_type": "code",
   "execution_count": null,
   "metadata": {},
   "outputs": [],
   "source": [
    "from scipy.special import erfinv\n",
    "    \n",
    "size = 50000\n",
    "u = np.random.random_sample(size)\n",
    "\n",
    "mu = 0.1\n",
    "sigma = 0.05\n",
    "steps = np.exp(np.sqrt(2.)*sigma*erfinv(2.*u-1.)+mu)\n",
    "\n",
    "x, y = mist.get_random_flight(steps, mode='2D', box_size=75., periodic=True)\n",
    "\n",
    "plt.figure(figsize=(7., 7.))\n",
    "plt.plot(x, y, 'o', markersize=1., alpha=0.25)\n",
    "plt.xlabel(r'$X$', fontsize=18)\n",
    "plt.ylabel(r'$Y$', fontsize=18)\n",
    "plt.xlim(0., 75.)\n",
    "plt.ylim(0., 75.)\n",
    "plt.tight_layout()\n",
    "plt.show()"
   ]
  },
  {
   "cell_type": "code",
   "execution_count": null,
   "metadata": {},
   "outputs": [],
   "source": []
  }
 ],
 "metadata": {
  "kernelspec": {
   "display_name": "Python 2",
   "language": "python",
   "name": "python2"
  },
  "language_info": {
   "codemirror_mode": {
    "name": "ipython",
    "version": 2
   },
   "file_extension": ".py",
   "mimetype": "text/x-python",
   "name": "python",
   "nbconvert_exporter": "python",
   "pygments_lexer": "ipython2",
   "version": "2.7.15"
  }
 },
 "nbformat": 4,
 "nbformat_minor": 2
}
